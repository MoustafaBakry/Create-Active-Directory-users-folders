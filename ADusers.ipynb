{
 "cells": [
  {
   "cell_type": "code",
   "execution_count": 1,
   "id": "73057ba6",
   "metadata": {},
   "outputs": [],
   "source": [
    "import pandas as pd\n",
    "from tkinter import *\n",
    "from tkinter import ttk\n",
    "from tkinter import filedialog\n",
    "#import xlrd\n",
    "import os\n",
    "\n",
    "global Dep_folder\n",
    "global Emp_lst"
   ]
  },
  {
   "cell_type": "code",
   "execution_count": 2,
   "id": "9dafd6a9",
   "metadata": {},
   "outputs": [],
   "source": [
    "def Getfile():\n",
    "    global loc\n",
    "    global df\n",
    "    global dirname\n",
    "    global loc1\n",
    "    global Dep_folder\n",
    "    global Emp_lst\n",
    "    global Dep_lst\n",
    "\n",
    "    import_file_path = filedialog.askopenfilename() # get file name save it in var import_file_path\n",
    "    loc = import_file_path # mirroring var import_file_path to loc\n",
    "    df = pd.read_excel(loc)\n",
    "    dirname = loc\n",
    "    Dep_lst=df['dep'].to_list()\n",
    "    Dep_folder = list(dict.fromkeys(Dep_lst))\n",
    "    Emp_lst=df['name'].to_list()\n",
    "    flg=1\n",
    "    btn2.state(['!disabled'])"
   ]
  },
  {
   "cell_type": "code",
   "execution_count": 3,
   "id": "0fea60b2",
   "metadata": {},
   "outputs": [],
   "source": [
    "def Getfold():\n",
    "    Counter_emp = 0\n",
    "    global dirname\n",
    "    global Dep_folder\n",
    "    global Emp_lst\n",
    "    global Dep_lst\n",
    "\n",
    "    dirname = filedialog.askdirectory(title='Please select a directory')\n",
    "    for i in Dep_folder:\n",
    "        if len(i) != 0:\n",
    "                try:\n",
    "                    if os.path.exists(dirname + '/' + i) == False :\n",
    "                       os.mkdir(dirname + '/' + i)\n",
    "                except OSError:\n",
    "                    print(\"error\" % dirname + '/' + i)\n",
    "                else:\n",
    "                    print(\"successfully %s\" % dirname + '/' + i)\n",
    "    for Emp in Emp_lst:\n",
    "        if len(Emp) != 0:\n",
    "                try:\n",
    "                    if os.path.exists(dirname + '/' + Dep_lst[Counter_emp] + '/' +  Emp) == False :\n",
    "\n",
    "                        os.mkdir(dirname + '/' + Dep_lst[Counter_emp] + '/' +  Emp)\n",
    "\n",
    "                except OSError:\n",
    "                    print(\"error\" % dirname + '/' + Dep_lst[Counter_emp] + '/' +  Emp)\n",
    "                else:\n",
    "                    print(\"successfully %s\" % dirname + '/' + Dep_lst[Counter_emp] + '/' +  Emp)\n",
    "                    Counter_emp=Counter_emp+1"
   ]
  },
  {
   "cell_type": "code",
   "execution_count": null,
   "id": "90a2af94",
   "metadata": {},
   "outputs": [
    {
     "name": "stdout",
     "output_type": "stream",
     "text": [
      "successfully C:/Users/Bakry/ADusers/main/Human Resources\n",
      "successfully C:/Users/Bakry/ADusers/main/Account\n",
      "successfully C:/Users/Bakry/ADusers/main/Sales\n",
      "successfully C:/Users/Bakry/ADusers/main/management\n",
      "successfully C:/Users/Bakry/ADusers/main/Human Resources/Mohamed Ahmed\n",
      "successfully C:/Users/Bakry/ADusers/main/Human Resources/Ali Kamel\n",
      "successfully C:/Users/Bakry/ADusers/main/Account/Michel Essa\n",
      "successfully C:/Users/Bakry/ADusers/main/Sales/esssa ahmed\n",
      "successfully C:/Users/Bakry/ADusers/main/management/Ali morsi\n"
     ]
    }
   ],
   "source": [
    "root=Tk()\n",
    "root.title(\"Creating User Directories\")\n",
    "style=ttk.Style()\n",
    "style.theme_use('classic')\n",
    "\n",
    "global flg\n",
    "flg = 0\n",
    "\n",
    "btn1=ttk.Button(root,text='Choose excel file')\n",
    "btn1.grid(row=0,column=0,sticky='snew',ipadx=60,ipady=20)\n",
    "btn1.config(command = lambda : Getfile())\n",
    "\n",
    "btn2=ttk.Button(root,text='Choose Root folder to create subfolders inside')\n",
    "btn2.grid(row=1,column=0,sticky='snew',ipadx=60,ipady=20)\n",
    "btn2.config(command=lambda : Getfold())\n",
    "\n",
    "if flg==0:\n",
    "    btn2.state(['disabled'])\n",
    "else:\n",
    "    btn2.state(['!disabled'])\n",
    "\n",
    "root.mainloop()"
   ]
  },
  {
   "cell_type": "code",
   "execution_count": null,
   "id": "ce42c3a4",
   "metadata": {},
   "outputs": [],
   "source": []
  },
  {
   "cell_type": "code",
   "execution_count": null,
   "id": "483a0b0a",
   "metadata": {},
   "outputs": [],
   "source": []
  }
 ],
 "metadata": {
  "kernelspec": {
   "display_name": "Python 3",
   "language": "python",
   "name": "python3"
  },
  "language_info": {
   "codemirror_mode": {
    "name": "ipython",
    "version": 3
   },
   "file_extension": ".py",
   "mimetype": "text/x-python",
   "name": "python",
   "nbconvert_exporter": "python",
   "pygments_lexer": "ipython3",
   "version": "3.8.8"
  }
 },
 "nbformat": 4,
 "nbformat_minor": 5
}
